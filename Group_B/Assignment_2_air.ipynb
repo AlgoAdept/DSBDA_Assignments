{
 "cells": [
  {
   "cell_type": "code",
   "execution_count": 3,
   "id": "f413cfa4-4571-4fe5-843b-3f06a5453fc9",
   "metadata": {},
   "outputs": [],
   "source": [
    "import pandas as pd\n",
    "import numpy as np\n",
    "import matplotlib.pyplot as plt\n",
    "import seaborn as sns"
   ]
  },
  {
   "cell_type": "code",
   "execution_count": 4,
   "id": "2aa3f3e4-a4ee-4cf9-be9d-eeb68f5729e7",
   "metadata": {},
   "outputs": [
    {
     "name": "stderr",
     "output_type": "stream",
     "text": [
      "C:\\Users\\hp\\AppData\\Local\\Temp\\ipykernel_11548\\554577158.py:1: DtypeWarning: Columns (0) have mixed types. Specify dtype option on import or set low_memory=False.\n",
      "  df = pd.read_csv(\"airquality_data.csv\", encoding='cp1252')\n"
     ]
    }
   ],
   "source": [
    "df = pd.read_csv(\"airquality_data.csv\", encoding='cp1252')\n"
   ]
  },
  {
   "cell_type": "markdown",
   "id": "697cfbbe-442b-4b03-89e1-d77c4715ad7d",
   "metadata": {},
   "source": [
    "DATA CLEANING"
   ]
  },
  {
   "cell_type": "code",
   "execution_count": null,
   "id": "088983b7-f927-4272-b9c0-ed76b66d45a0",
   "metadata": {},
   "outputs": [],
   "source": [
    "# Convert date columns to datetime format\n",
    "df['sampling_date'] = pd.to_datetime(df['sampling_date'], errors='coerce')\n",
    "df['date'] = pd.to_datetime(df['date'], errors='coerce')\n"
   ]
  },
  {
   "cell_type": "code",
   "execution_count": 6,
   "id": "413029b4-0646-4aee-8802-393f641245ea",
   "metadata": {},
   "outputs": [],
   "source": [
    "df = df.drop_duplicates()\n",
    "\n",
    "# Fill missing values\n",
    "# For categorical columns, fill with 'Unknown'\n",
    "categorical_cols = ['stn_code', 'state', 'location', 'agency', 'type', 'location_monitoring_station']\n",
    "df[categorical_cols] = df[categorical_cols].fillna('Unknown')\n",
    "\n",
    "# For numerical columns, fill with median values\n",
    "numerical_cols = ['so2', 'no2', 'rspm', 'spm', 'pm2_5']\n",
    "df[numerical_cols] = df[numerical_cols].apply(lambda x: x.fillna(x.median()))\n"
   ]
  },
  {
   "cell_type": "markdown",
   "id": "c7bef835-7eaf-4dac-bd93-2290b70caf64",
   "metadata": {},
   "source": [
    "DATA INTEGRATION"
   ]
  },
  {
   "cell_type": "code",
   "execution_count": 7,
   "id": "6498c4b9-f655-497c-be7f-f776f221b5e4",
   "metadata": {},
   "outputs": [],
   "source": [
    "# Aggregate pollutant levels by location and date\n",
    "df_summary = df.groupby(['location', 'date'])[numerical_cols].mean().reset_index()\n",
    "\n",
    "# Merge aggregated data back into the original dataset\n",
    "df = df.merge(df_summary, on=['location', 'date'], suffixes=('', '_avg'))"
   ]
  },
  {
   "cell_type": "markdown",
   "id": "19c7e7d0-5816-43c2-8689-7c356d73603f",
   "metadata": {},
   "source": [
    "DATA TRANSFORMATION"
   ]
  },
  {
   "cell_type": "code",
   "execution_count": 8,
   "id": "a490ed4e-740a-4593-9009-5912f19f3e1a",
   "metadata": {},
   "outputs": [],
   "source": [
    "# Creating a new column for AQI (Air Quality Index) approximation\n",
    "def calculate_aqi(row):\n",
    "    return (row['so2'] * 0.2) + (row['no2'] * 0.3) + (row['rspm'] * 0.5)  # Example formula\n",
    "\n",
    "df['AQI'] = df.apply(calculate_aqi, axis=1)\n",
    "\n",
    "# Normalize numerical values\n",
    "def normalize(column):\n",
    "    return (column - column.min()) / (column.max() - column.min())\n",
    "\n",
    "df[numerical_cols] = df[numerical_cols].apply(normalize)\n"
   ]
  },
  {
   "cell_type": "markdown",
   "id": "79d38a03-8bc3-45d2-880f-f844a4ecf61b",
   "metadata": {},
   "source": [
    "ERROR CORRECTING"
   ]
  },
  {
   "cell_type": "code",
   "execution_count": 9,
   "id": "fca0833a-4915-4bd2-9b7a-859619a01e1d",
   "metadata": {},
   "outputs": [],
   "source": [
    "# Removing extreme outliers (values beyond 99th percentile)\n",
    "def remove_outliers(column):\n",
    "    upper_limit = column.quantile(0.99)\n",
    "    return column.apply(lambda x: x if x <= upper_limit else upper_limit)\n",
    "\n",
    "df[numerical_cols] = df[numerical_cols].apply(remove_outliers)"
   ]
  },
  {
   "cell_type": "code",
   "execution_count": null,
   "id": "11aa281e-bc35-4907-ab21-477ab71a9a9c",
   "metadata": {},
   "outputs": [],
   "source": [
    "VISUALIZATIONS"
   ]
  },
  {
   "cell_type": "code",
   "execution_count": null,
   "id": "2aa1507a-94c1-4079-a1b5-406e851b8efa",
   "metadata": {},
   "outputs": [],
   "source": [
    "\n",
    "plt.figure(figsize=(10, 5))\n",
    "sns.lineplot(data=df, x='date', y='AQI', hue='state', alpha=0.7)\n",
    "plt.title('Time-Series Trend of AQI Across States')\n",
    "plt.xlabel('Date')\n",
    "plt.ylabel('AQI')\n",
    "plt.xticks(rotation=45)\n",
    "plt.legend(loc='upper right')\n",
    "plt.show()\n",
    "\n"
   ]
  },
  {
   "cell_type": "code",
   "execution_count": null,
   "id": "bce20654-b2a1-4a1d-8d7d-6013cefe2479",
   "metadata": {},
   "outputs": [],
   "source": [
    "plt.figure(figsize=(12, 6))\n",
    "df_grouped = df.groupby('state')[numerical_cols].mean()\n",
    "df_grouped.plot(kind='bar', stacked=True, figsize=(12, 6))\n",
    "plt.title('Average Pollutant Levels by State')\n",
    "plt.xlabel('State')\n",
    "plt.ylabel('Pollutant Concentration')\n",
    "plt.xticks(rotation=90)\n",
    "plt.legend(title='Pollutants')\n",
    "plt.show()\n",
    "\n",
    "plt.figure(figsize=(10, 5))\n",
    "sns.pairplot(df[numerical_cols])\n",
    "plt.title('Pairplot of Pollutant Levels')\n",
    "plt.show()\n",
    "\n",
    "plt.figure(figsize=(12, 6))\n",
    "sns.heatmap(df[numerical_cols].corr(), annot=True, cmap='coolwarm', linewidths=0.5)\n",
    "plt.title('Correlation Heatmap of Pollutants')\n",
    "plt.show()\n",
    "# Save the cleaned dataset\n",
    "df.to_csv('cleaned_airquality.csv', index=False)\n",
    "\n",
    "print(\"Data Cleaning and Transformation Completed! Cleaned dataset saved as 'cleaned_airquality.csv'\")\n"
   ]
  },
  {
   "cell_type": "code",
   "execution_count": null,
   "id": "404f36ee-eba1-44e6-8746-bceaf9849195",
   "metadata": {},
   "outputs": [],
   "source": []
  }
 ],
 "metadata": {
  "kernelspec": {
   "display_name": "Python 3 (ipykernel)",
   "language": "python",
   "name": "python3"
  },
  "language_info": {
   "codemirror_mode": {
    "name": "ipython",
    "version": 3
   },
   "file_extension": ".py",
   "mimetype": "text/x-python",
   "name": "python",
   "nbconvert_exporter": "python",
   "pygments_lexer": "ipython3",
   "version": "3.12.2"
  }
 },
 "nbformat": 4,
 "nbformat_minor": 5
}
