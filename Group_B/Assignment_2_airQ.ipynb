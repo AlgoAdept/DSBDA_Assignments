{
 "cells": [
  {
   "cell_type": "code",
   "execution_count": 31,
   "id": "f67e8b94-8b0d-4243-933c-5b20ad0b4417",
   "metadata": {},
   "outputs": [],
   "source": [
    "import pandas as pd"
   ]
  },
  {
   "cell_type": "code",
   "execution_count": 32,
   "id": "e9f38d95-34ef-42a1-8ccb-45ecdd5094c2",
   "metadata": {},
   "outputs": [
    {
     "name": "stderr",
     "output_type": "stream",
     "text": [
      "C:\\Users\\hp\\AppData\\Local\\Temp\\ipykernel_6468\\2182913842.py:1: DtypeWarning: Columns (0) have mixed types. Specify dtype option on import or set low_memory=False.\n",
      "  df = pd.read_csv('airquality_data.csv', encoding='cp1252')\n"
     ]
    }
   ],
   "source": [
    "df = pd.read_csv('airquality_data.csv', encoding='cp1252')"
   ]
  },
  {
   "cell_type": "code",
   "execution_count": 33,
   "id": "14c3cf83-979e-488f-b4e1-4bd41f1504a6",
   "metadata": {},
   "outputs": [
    {
     "name": "stdout",
     "output_type": "stream",
     "text": [
      "<class 'pandas.core.frame.DataFrame'>\n",
      "RangeIndex: 435742 entries, 0 to 435741\n",
      "Data columns (total 13 columns):\n",
      " #   Column                       Non-Null Count   Dtype  \n",
      "---  ------                       --------------   -----  \n",
      " 0   stn_code                     291665 non-null  object \n",
      " 1   sampling_date                435739 non-null  object \n",
      " 2   state                        435742 non-null  object \n",
      " 3   location                     435739 non-null  object \n",
      " 4   agency                       286261 non-null  object \n",
      " 5   type                         430349 non-null  object \n",
      " 6   so2                          401096 non-null  float64\n",
      " 7   no2                          419509 non-null  float64\n",
      " 8   rspm                         395520 non-null  float64\n",
      " 9   spm                          198355 non-null  float64\n",
      " 10  location_monitoring_station  408251 non-null  object \n",
      " 11  pm2_5                        9314 non-null    float64\n",
      " 12  date                         435735 non-null  object \n",
      "dtypes: float64(5), object(8)\n",
      "memory usage: 43.2+ MB\n"
     ]
    }
   ],
   "source": [
    "df.info()"
   ]
  },
  {
   "cell_type": "code",
   "execution_count": 34,
   "id": "24ae1810-7eb7-40ad-9763-dc2d8c6d791e",
   "metadata": {},
   "outputs": [
    {
     "data": {
      "text/plain": [
       "stn_code                       144077\n",
       "sampling_date                       3\n",
       "state                               0\n",
       "location                            3\n",
       "agency                         149481\n",
       "type                             5393\n",
       "so2                             34646\n",
       "no2                             16233\n",
       "rspm                            40222\n",
       "spm                            237387\n",
       "location_monitoring_station     27491\n",
       "pm2_5                          426428\n",
       "date                                7\n",
       "dtype: int64"
      ]
     },
     "execution_count": 34,
     "metadata": {},
     "output_type": "execute_result"
    }
   ],
   "source": [
    "df.isna().sum()\n"
   ]
  },
  {
   "cell_type": "code",
   "execution_count": 35,
   "id": "56f3b0d3-0925-4b9d-befe-dde12f5976e3",
   "metadata": {},
   "outputs": [],
   "source": [
    "df=df.drop_duplicates()"
   ]
  },
  {
   "cell_type": "code",
   "execution_count": 36,
   "id": "55a67d82-037b-4da3-961b-3c1d611e4372",
   "metadata": {},
   "outputs": [
    {
     "data": {
      "text/plain": [
       "stn_code                       144077\n",
       "sampling_date                       3\n",
       "state                               0\n",
       "location                            3\n",
       "agency                         149466\n",
       "type                             5357\n",
       "so2                             34632\n",
       "no2                             16222\n",
       "rspm                            40035\n",
       "spm                            236908\n",
       "location_monitoring_station     27303\n",
       "pm2_5                          425754\n",
       "date                                7\n",
       "dtype: int64"
      ]
     },
     "execution_count": 36,
     "metadata": {},
     "output_type": "execute_result"
    }
   ],
   "source": [
    "df.isna().sum()"
   ]
  },
  {
   "cell_type": "code",
   "execution_count": 37,
   "id": "b51c904c-dcc8-46a6-a51c-da6b1499c370",
   "metadata": {},
   "outputs": [],
   "source": [
    "percent_missing = df.isna().sum() * 100 / len(df)"
   ]
  },
  {
   "cell_type": "code",
   "execution_count": 38,
   "id": "6985d52e-a401-4166-b1b0-f8fe2182c442",
   "metadata": {},
   "outputs": [
    {
     "data": {
      "text/plain": [
       "state                           0.000000\n",
       "sampling_date                   0.000690\n",
       "location                        0.000690\n",
       "date                            0.001609\n",
       "type                            1.231302\n",
       "no2                             3.728613\n",
       "location_monitoring_station     6.275571\n",
       "so2                             7.960135\n",
       "rspm                            9.202010\n",
       "stn_code                       33.115973\n",
       "agency                         34.354630\n",
       "spm                            54.453097\n",
       "pm2_5                          97.859185\n",
       "dtype: float64"
      ]
     },
     "execution_count": 38,
     "metadata": {},
     "output_type": "execute_result"
    }
   ],
   "source": [
    "percent_missing.sort_values()"
   ]
  },
  {
   "cell_type": "code",
   "execution_count": 39,
   "id": "0b2ffc80-5032-4538-bda2-920d18bdb4f0",
   "metadata": {},
   "outputs": [
    {
     "data": {
      "text/plain": [
       "Index(['stn_code', 'sampling_date', 'state', 'location', 'agency', 'type',\n",
       "       'so2', 'no2', 'rspm', 'spm', 'location_monitoring_station', 'pm2_5',\n",
       "       'date'],\n",
       "      dtype='object')"
      ]
     },
     "execution_count": 39,
     "metadata": {},
     "output_type": "execute_result"
    }
   ],
   "source": [
    "df.columns"
   ]
  },
  {
   "cell_type": "code",
   "execution_count": 40,
   "id": "caea8309-5044-486c-b231-428e3af1cdf7",
   "metadata": {},
   "outputs": [],
   "source": [
    "numerical_cols = [\"so2\", \"no2\", \"rspm\", \"spm\", \"pm2_5\"]\n"
   ]
  },
  {
   "cell_type": "code",
   "execution_count": 41,
   "id": "1c68c1a6-1f1e-45eb-af57-6751cf4102a6",
   "metadata": {},
   "outputs": [],
   "source": [
    "df['location'] = df[categorical_cols].fillna('Unknown')"
   ]
  },
  {
   "cell_type": "code",
   "execution_count": 42,
   "id": "b814e7a6-ed4e-4c6e-8bc8-5aaf64a5e13a",
   "metadata": {},
   "outputs": [
    {
     "data": {
      "text/html": [
       "<div>\n",
       "<style scoped>\n",
       "    .dataframe tbody tr th:only-of-type {\n",
       "        vertical-align: middle;\n",
       "    }\n",
       "\n",
       "    .dataframe tbody tr th {\n",
       "        vertical-align: top;\n",
       "    }\n",
       "\n",
       "    .dataframe thead th {\n",
       "        text-align: right;\n",
       "    }\n",
       "</style>\n",
       "<table border=\"1\" class=\"dataframe\">\n",
       "  <thead>\n",
       "    <tr style=\"text-align: right;\">\n",
       "      <th></th>\n",
       "      <th>stn_code</th>\n",
       "      <th>sampling_date</th>\n",
       "      <th>state</th>\n",
       "      <th>location</th>\n",
       "      <th>agency</th>\n",
       "      <th>type</th>\n",
       "      <th>so2</th>\n",
       "      <th>no2</th>\n",
       "      <th>rspm</th>\n",
       "      <th>spm</th>\n",
       "      <th>location_monitoring_station</th>\n",
       "      <th>pm2_5</th>\n",
       "      <th>date</th>\n",
       "    </tr>\n",
       "  </thead>\n",
       "  <tbody>\n",
       "    <tr>\n",
       "      <th>0</th>\n",
       "      <td>150.0</td>\n",
       "      <td>February - M021990</td>\n",
       "      <td>Andhra Pradesh</td>\n",
       "      <td>Hyderabad</td>\n",
       "      <td>NaN</td>\n",
       "      <td>Residential, Rural and other Areas</td>\n",
       "      <td>4.8</td>\n",
       "      <td>17.4</td>\n",
       "      <td>NaN</td>\n",
       "      <td>NaN</td>\n",
       "      <td>NaN</td>\n",
       "      <td>NaN</td>\n",
       "      <td>1990-02-01</td>\n",
       "    </tr>\n",
       "    <tr>\n",
       "      <th>1</th>\n",
       "      <td>151.0</td>\n",
       "      <td>February - M021990</td>\n",
       "      <td>Andhra Pradesh</td>\n",
       "      <td>Hyderabad</td>\n",
       "      <td>NaN</td>\n",
       "      <td>Industrial Area</td>\n",
       "      <td>3.1</td>\n",
       "      <td>7.0</td>\n",
       "      <td>NaN</td>\n",
       "      <td>NaN</td>\n",
       "      <td>NaN</td>\n",
       "      <td>NaN</td>\n",
       "      <td>1990-02-01</td>\n",
       "    </tr>\n",
       "    <tr>\n",
       "      <th>2</th>\n",
       "      <td>152.0</td>\n",
       "      <td>February - M021990</td>\n",
       "      <td>Andhra Pradesh</td>\n",
       "      <td>Hyderabad</td>\n",
       "      <td>NaN</td>\n",
       "      <td>Residential, Rural and other Areas</td>\n",
       "      <td>6.2</td>\n",
       "      <td>28.5</td>\n",
       "      <td>NaN</td>\n",
       "      <td>NaN</td>\n",
       "      <td>NaN</td>\n",
       "      <td>NaN</td>\n",
       "      <td>1990-02-01</td>\n",
       "    </tr>\n",
       "    <tr>\n",
       "      <th>3</th>\n",
       "      <td>150.0</td>\n",
       "      <td>March - M031990</td>\n",
       "      <td>Andhra Pradesh</td>\n",
       "      <td>Hyderabad</td>\n",
       "      <td>NaN</td>\n",
       "      <td>Residential, Rural and other Areas</td>\n",
       "      <td>6.3</td>\n",
       "      <td>14.7</td>\n",
       "      <td>NaN</td>\n",
       "      <td>NaN</td>\n",
       "      <td>NaN</td>\n",
       "      <td>NaN</td>\n",
       "      <td>1990-03-01</td>\n",
       "    </tr>\n",
       "    <tr>\n",
       "      <th>4</th>\n",
       "      <td>151.0</td>\n",
       "      <td>March - M031990</td>\n",
       "      <td>Andhra Pradesh</td>\n",
       "      <td>Hyderabad</td>\n",
       "      <td>NaN</td>\n",
       "      <td>Industrial Area</td>\n",
       "      <td>4.7</td>\n",
       "      <td>7.5</td>\n",
       "      <td>NaN</td>\n",
       "      <td>NaN</td>\n",
       "      <td>NaN</td>\n",
       "      <td>NaN</td>\n",
       "      <td>1990-03-01</td>\n",
       "    </tr>\n",
       "  </tbody>\n",
       "</table>\n",
       "</div>"
      ],
      "text/plain": [
       "  stn_code       sampling_date           state   location agency  \\\n",
       "0    150.0  February - M021990  Andhra Pradesh  Hyderabad    NaN   \n",
       "1    151.0  February - M021990  Andhra Pradesh  Hyderabad    NaN   \n",
       "2    152.0  February - M021990  Andhra Pradesh  Hyderabad    NaN   \n",
       "3    150.0     March - M031990  Andhra Pradesh  Hyderabad    NaN   \n",
       "4    151.0     March - M031990  Andhra Pradesh  Hyderabad    NaN   \n",
       "\n",
       "                                 type  so2   no2  rspm  spm  \\\n",
       "0  Residential, Rural and other Areas  4.8  17.4   NaN  NaN   \n",
       "1                     Industrial Area  3.1   7.0   NaN  NaN   \n",
       "2  Residential, Rural and other Areas  6.2  28.5   NaN  NaN   \n",
       "3  Residential, Rural and other Areas  6.3  14.7   NaN  NaN   \n",
       "4                     Industrial Area  4.7   7.5   NaN  NaN   \n",
       "\n",
       "  location_monitoring_station  pm2_5        date  \n",
       "0                         NaN    NaN  1990-02-01  \n",
       "1                         NaN    NaN  1990-02-01  \n",
       "2                         NaN    NaN  1990-02-01  \n",
       "3                         NaN    NaN  1990-03-01  \n",
       "4                         NaN    NaN  1990-03-01  "
      ]
     },
     "execution_count": 42,
     "metadata": {},
     "output_type": "execute_result"
    }
   ],
   "source": [
    "df.head()"
   ]
  },
  {
   "cell_type": "code",
   "execution_count": 43,
   "id": "054aabc0-797f-4e40-bd5e-f0ccd54650c2",
   "metadata": {},
   "outputs": [],
   "source": [
    "df[numerical_cols] = df[numerical_cols].fillna(df[numerical_cols].median())"
   ]
  },
  {
   "cell_type": "code",
   "execution_count": 44,
   "id": "a35d42d2-8184-459f-b755-5b685efbb7f7",
   "metadata": {},
   "outputs": [
    {
     "data": {
      "text/html": [
       "<div>\n",
       "<style scoped>\n",
       "    .dataframe tbody tr th:only-of-type {\n",
       "        vertical-align: middle;\n",
       "    }\n",
       "\n",
       "    .dataframe tbody tr th {\n",
       "        vertical-align: top;\n",
       "    }\n",
       "\n",
       "    .dataframe thead th {\n",
       "        text-align: right;\n",
       "    }\n",
       "</style>\n",
       "<table border=\"1\" class=\"dataframe\">\n",
       "  <thead>\n",
       "    <tr style=\"text-align: right;\">\n",
       "      <th></th>\n",
       "      <th>so2</th>\n",
       "      <th>no2</th>\n",
       "      <th>rspm</th>\n",
       "      <th>spm</th>\n",
       "      <th>pm2_5</th>\n",
       "    </tr>\n",
       "  </thead>\n",
       "  <tbody>\n",
       "    <tr>\n",
       "      <th>0</th>\n",
       "      <td>4.8</td>\n",
       "      <td>17.4</td>\n",
       "      <td>90.0</td>\n",
       "      <td>187.0</td>\n",
       "      <td>32.0</td>\n",
       "    </tr>\n",
       "    <tr>\n",
       "      <th>1</th>\n",
       "      <td>3.1</td>\n",
       "      <td>7.0</td>\n",
       "      <td>90.0</td>\n",
       "      <td>187.0</td>\n",
       "      <td>32.0</td>\n",
       "    </tr>\n",
       "    <tr>\n",
       "      <th>2</th>\n",
       "      <td>6.2</td>\n",
       "      <td>28.5</td>\n",
       "      <td>90.0</td>\n",
       "      <td>187.0</td>\n",
       "      <td>32.0</td>\n",
       "    </tr>\n",
       "    <tr>\n",
       "      <th>3</th>\n",
       "      <td>6.3</td>\n",
       "      <td>14.7</td>\n",
       "      <td>90.0</td>\n",
       "      <td>187.0</td>\n",
       "      <td>32.0</td>\n",
       "    </tr>\n",
       "    <tr>\n",
       "      <th>4</th>\n",
       "      <td>4.7</td>\n",
       "      <td>7.5</td>\n",
       "      <td>90.0</td>\n",
       "      <td>187.0</td>\n",
       "      <td>32.0</td>\n",
       "    </tr>\n",
       "    <tr>\n",
       "      <th>...</th>\n",
       "      <td>...</td>\n",
       "      <td>...</td>\n",
       "      <td>...</td>\n",
       "      <td>...</td>\n",
       "      <td>...</td>\n",
       "    </tr>\n",
       "    <tr>\n",
       "      <th>435737</th>\n",
       "      <td>22.0</td>\n",
       "      <td>50.0</td>\n",
       "      <td>143.0</td>\n",
       "      <td>187.0</td>\n",
       "      <td>32.0</td>\n",
       "    </tr>\n",
       "    <tr>\n",
       "      <th>435738</th>\n",
       "      <td>20.0</td>\n",
       "      <td>46.0</td>\n",
       "      <td>171.0</td>\n",
       "      <td>187.0</td>\n",
       "      <td>32.0</td>\n",
       "    </tr>\n",
       "    <tr>\n",
       "      <th>435739</th>\n",
       "      <td>8.0</td>\n",
       "      <td>22.0</td>\n",
       "      <td>90.0</td>\n",
       "      <td>187.0</td>\n",
       "      <td>32.0</td>\n",
       "    </tr>\n",
       "    <tr>\n",
       "      <th>435740</th>\n",
       "      <td>8.0</td>\n",
       "      <td>22.0</td>\n",
       "      <td>90.0</td>\n",
       "      <td>187.0</td>\n",
       "      <td>32.0</td>\n",
       "    </tr>\n",
       "    <tr>\n",
       "      <th>435741</th>\n",
       "      <td>8.0</td>\n",
       "      <td>22.0</td>\n",
       "      <td>90.0</td>\n",
       "      <td>187.0</td>\n",
       "      <td>32.0</td>\n",
       "    </tr>\n",
       "  </tbody>\n",
       "</table>\n",
       "<p>435068 rows × 5 columns</p>\n",
       "</div>"
      ],
      "text/plain": [
       "         so2   no2   rspm    spm  pm2_5\n",
       "0        4.8  17.4   90.0  187.0   32.0\n",
       "1        3.1   7.0   90.0  187.0   32.0\n",
       "2        6.2  28.5   90.0  187.0   32.0\n",
       "3        6.3  14.7   90.0  187.0   32.0\n",
       "4        4.7   7.5   90.0  187.0   32.0\n",
       "...      ...   ...    ...    ...    ...\n",
       "435737  22.0  50.0  143.0  187.0   32.0\n",
       "435738  20.0  46.0  171.0  187.0   32.0\n",
       "435739   8.0  22.0   90.0  187.0   32.0\n",
       "435740   8.0  22.0   90.0  187.0   32.0\n",
       "435741   8.0  22.0   90.0  187.0   32.0\n",
       "\n",
       "[435068 rows x 5 columns]"
      ]
     },
     "execution_count": 44,
     "metadata": {},
     "output_type": "execute_result"
    }
   ],
   "source": [
    "df[numerical_cols]"
   ]
  },
  {
   "cell_type": "code",
   "execution_count": 45,
   "id": "7898fe48-455b-4a78-99a2-e93dc03614f3",
   "metadata": {},
   "outputs": [],
   "source": [
    "df_summary = df.groupby(\"location\")[numerical_cols].mean().reset_index()"
   ]
  },
  {
   "cell_type": "code",
   "execution_count": 46,
   "id": "8342320d-2014-4e1b-8305-a3008ddc277c",
   "metadata": {},
   "outputs": [
    {
     "data": {
      "text/html": [
       "<div>\n",
       "<style scoped>\n",
       "    .dataframe tbody tr th:only-of-type {\n",
       "        vertical-align: middle;\n",
       "    }\n",
       "\n",
       "    .dataframe tbody tr th {\n",
       "        vertical-align: top;\n",
       "    }\n",
       "\n",
       "    .dataframe thead th {\n",
       "        text-align: right;\n",
       "    }\n",
       "</style>\n",
       "<table border=\"1\" class=\"dataframe\">\n",
       "  <thead>\n",
       "    <tr style=\"text-align: right;\">\n",
       "      <th></th>\n",
       "      <th>location</th>\n",
       "      <th>so2</th>\n",
       "      <th>no2</th>\n",
       "      <th>rspm</th>\n",
       "      <th>spm</th>\n",
       "      <th>pm2_5</th>\n",
       "    </tr>\n",
       "  </thead>\n",
       "  <tbody>\n",
       "    <tr>\n",
       "      <th>0</th>\n",
       "      <td>ANKLESHWAR</td>\n",
       "      <td>18.940120</td>\n",
       "      <td>22.898204</td>\n",
       "      <td>83.868263</td>\n",
       "      <td>187.000000</td>\n",
       "      <td>32.556886</td>\n",
       "    </tr>\n",
       "    <tr>\n",
       "      <th>1</th>\n",
       "      <td>Agra</td>\n",
       "      <td>6.461704</td>\n",
       "      <td>19.918637</td>\n",
       "      <td>170.673127</td>\n",
       "      <td>286.509177</td>\n",
       "      <td>32.000000</td>\n",
       "    </tr>\n",
       "    <tr>\n",
       "      <th>2</th>\n",
       "      <td>Ahmedabad</td>\n",
       "      <td>14.155741</td>\n",
       "      <td>22.332810</td>\n",
       "      <td>93.763945</td>\n",
       "      <td>206.442273</td>\n",
       "      <td>31.708227</td>\n",
       "    </tr>\n",
       "    <tr>\n",
       "      <th>3</th>\n",
       "      <td>Aizawl</td>\n",
       "      <td>3.736762</td>\n",
       "      <td>9.843767</td>\n",
       "      <td>42.540273</td>\n",
       "      <td>148.376894</td>\n",
       "      <td>32.000000</td>\n",
       "    </tr>\n",
       "    <tr>\n",
       "      <th>4</th>\n",
       "      <td>Akola</td>\n",
       "      <td>7.992821</td>\n",
       "      <td>9.377436</td>\n",
       "      <td>134.301368</td>\n",
       "      <td>187.000000</td>\n",
       "      <td>32.000000</td>\n",
       "    </tr>\n",
       "    <tr>\n",
       "      <th>...</th>\n",
       "      <td>...</td>\n",
       "      <td>...</td>\n",
       "      <td>...</td>\n",
       "      <td>...</td>\n",
       "      <td>...</td>\n",
       "      <td>...</td>\n",
       "    </tr>\n",
       "    <tr>\n",
       "      <th>300</th>\n",
       "      <td>Warangal</td>\n",
       "      <td>5.503968</td>\n",
       "      <td>11.754444</td>\n",
       "      <td>53.457143</td>\n",
       "      <td>182.560317</td>\n",
       "      <td>32.000000</td>\n",
       "    </tr>\n",
       "    <tr>\n",
       "      <th>301</th>\n",
       "      <td>Wayanad</td>\n",
       "      <td>2.006445</td>\n",
       "      <td>6.012109</td>\n",
       "      <td>36.984375</td>\n",
       "      <td>187.000000</td>\n",
       "      <td>32.000000</td>\n",
       "    </tr>\n",
       "    <tr>\n",
       "      <th>302</th>\n",
       "      <td>West Singhbhum</td>\n",
       "      <td>20.947020</td>\n",
       "      <td>30.715232</td>\n",
       "      <td>246.417219</td>\n",
       "      <td>187.000000</td>\n",
       "      <td>32.000000</td>\n",
       "    </tr>\n",
       "    <tr>\n",
       "      <th>303</th>\n",
       "      <td>Yamuna Nagar</td>\n",
       "      <td>20.259451</td>\n",
       "      <td>20.204573</td>\n",
       "      <td>125.707317</td>\n",
       "      <td>220.121951</td>\n",
       "      <td>32.000000</td>\n",
       "    </tr>\n",
       "    <tr>\n",
       "      <th>304</th>\n",
       "      <td>Yamunanagar</td>\n",
       "      <td>14.192273</td>\n",
       "      <td>29.161818</td>\n",
       "      <td>172.404545</td>\n",
       "      <td>240.768182</td>\n",
       "      <td>32.000000</td>\n",
       "    </tr>\n",
       "  </tbody>\n",
       "</table>\n",
       "<p>305 rows × 6 columns</p>\n",
       "</div>"
      ],
      "text/plain": [
       "           location        so2        no2        rspm         spm      pm2_5\n",
       "0        ANKLESHWAR  18.940120  22.898204   83.868263  187.000000  32.556886\n",
       "1              Agra   6.461704  19.918637  170.673127  286.509177  32.000000\n",
       "2         Ahmedabad  14.155741  22.332810   93.763945  206.442273  31.708227\n",
       "3            Aizawl   3.736762   9.843767   42.540273  148.376894  32.000000\n",
       "4             Akola   7.992821   9.377436  134.301368  187.000000  32.000000\n",
       "..              ...        ...        ...         ...         ...        ...\n",
       "300        Warangal   5.503968  11.754444   53.457143  182.560317  32.000000\n",
       "301         Wayanad   2.006445   6.012109   36.984375  187.000000  32.000000\n",
       "302  West Singhbhum  20.947020  30.715232  246.417219  187.000000  32.000000\n",
       "303    Yamuna Nagar  20.259451  20.204573  125.707317  220.121951  32.000000\n",
       "304     Yamunanagar  14.192273  29.161818  172.404545  240.768182  32.000000\n",
       "\n",
       "[305 rows x 6 columns]"
      ]
     },
     "execution_count": 46,
     "metadata": {},
     "output_type": "execute_result"
    }
   ],
   "source": [
    "df_summary"
   ]
  },
  {
   "cell_type": "code",
   "execution_count": 47,
   "id": "a6d7519d-93dc-4971-b740-4827e624b07b",
   "metadata": {},
   "outputs": [
    {
     "data": {
      "text/html": [
       "<div>\n",
       "<style scoped>\n",
       "    .dataframe tbody tr th:only-of-type {\n",
       "        vertical-align: middle;\n",
       "    }\n",
       "\n",
       "    .dataframe tbody tr th {\n",
       "        vertical-align: top;\n",
       "    }\n",
       "\n",
       "    .dataframe thead th {\n",
       "        text-align: right;\n",
       "    }\n",
       "</style>\n",
       "<table border=\"1\" class=\"dataframe\">\n",
       "  <thead>\n",
       "    <tr style=\"text-align: right;\">\n",
       "      <th></th>\n",
       "      <th>location</th>\n",
       "      <th>so2</th>\n",
       "      <th>no2</th>\n",
       "      <th>rspm</th>\n",
       "      <th>spm</th>\n",
       "      <th>pm2_5</th>\n",
       "      <th>AQI</th>\n",
       "    </tr>\n",
       "  </thead>\n",
       "  <tbody>\n",
       "    <tr>\n",
       "      <th>0</th>\n",
       "      <td>ANKLESHWAR</td>\n",
       "      <td>18.940120</td>\n",
       "      <td>22.898204</td>\n",
       "      <td>83.868263</td>\n",
       "      <td>187.000000</td>\n",
       "      <td>32.556886</td>\n",
       "      <td>52.591617</td>\n",
       "    </tr>\n",
       "    <tr>\n",
       "      <th>1</th>\n",
       "      <td>Agra</td>\n",
       "      <td>6.461704</td>\n",
       "      <td>19.918637</td>\n",
       "      <td>170.673127</td>\n",
       "      <td>286.509177</td>\n",
       "      <td>32.000000</td>\n",
       "      <td>92.604495</td>\n",
       "    </tr>\n",
       "    <tr>\n",
       "      <th>2</th>\n",
       "      <td>Ahmedabad</td>\n",
       "      <td>14.155741</td>\n",
       "      <td>22.332810</td>\n",
       "      <td>93.763945</td>\n",
       "      <td>206.442273</td>\n",
       "      <td>31.708227</td>\n",
       "      <td>56.412964</td>\n",
       "    </tr>\n",
       "    <tr>\n",
       "      <th>3</th>\n",
       "      <td>Aizawl</td>\n",
       "      <td>3.736762</td>\n",
       "      <td>9.843767</td>\n",
       "      <td>42.540273</td>\n",
       "      <td>148.376894</td>\n",
       "      <td>32.000000</td>\n",
       "      <td>24.970619</td>\n",
       "    </tr>\n",
       "    <tr>\n",
       "      <th>4</th>\n",
       "      <td>Akola</td>\n",
       "      <td>7.992821</td>\n",
       "      <td>9.377436</td>\n",
       "      <td>134.301368</td>\n",
       "      <td>187.000000</td>\n",
       "      <td>32.000000</td>\n",
       "      <td>71.562479</td>\n",
       "    </tr>\n",
       "    <tr>\n",
       "      <th>...</th>\n",
       "      <td>...</td>\n",
       "      <td>...</td>\n",
       "      <td>...</td>\n",
       "      <td>...</td>\n",
       "      <td>...</td>\n",
       "      <td>...</td>\n",
       "      <td>...</td>\n",
       "    </tr>\n",
       "    <tr>\n",
       "      <th>300</th>\n",
       "      <td>Warangal</td>\n",
       "      <td>5.503968</td>\n",
       "      <td>11.754444</td>\n",
       "      <td>53.457143</td>\n",
       "      <td>182.560317</td>\n",
       "      <td>32.000000</td>\n",
       "      <td>31.355698</td>\n",
       "    </tr>\n",
       "    <tr>\n",
       "      <th>301</th>\n",
       "      <td>Wayanad</td>\n",
       "      <td>2.006445</td>\n",
       "      <td>6.012109</td>\n",
       "      <td>36.984375</td>\n",
       "      <td>187.000000</td>\n",
       "      <td>32.000000</td>\n",
       "      <td>20.697109</td>\n",
       "    </tr>\n",
       "    <tr>\n",
       "      <th>302</th>\n",
       "      <td>West Singhbhum</td>\n",
       "      <td>20.947020</td>\n",
       "      <td>30.715232</td>\n",
       "      <td>246.417219</td>\n",
       "      <td>187.000000</td>\n",
       "      <td>32.000000</td>\n",
       "      <td>136.612583</td>\n",
       "    </tr>\n",
       "    <tr>\n",
       "      <th>303</th>\n",
       "      <td>Yamuna Nagar</td>\n",
       "      <td>20.259451</td>\n",
       "      <td>20.204573</td>\n",
       "      <td>125.707317</td>\n",
       "      <td>220.121951</td>\n",
       "      <td>32.000000</td>\n",
       "      <td>72.966921</td>\n",
       "    </tr>\n",
       "    <tr>\n",
       "      <th>304</th>\n",
       "      <td>Yamunanagar</td>\n",
       "      <td>14.192273</td>\n",
       "      <td>29.161818</td>\n",
       "      <td>172.404545</td>\n",
       "      <td>240.768182</td>\n",
       "      <td>32.000000</td>\n",
       "      <td>97.789273</td>\n",
       "    </tr>\n",
       "  </tbody>\n",
       "</table>\n",
       "<p>305 rows × 7 columns</p>\n",
       "</div>"
      ],
      "text/plain": [
       "           location        so2        no2        rspm         spm      pm2_5  \\\n",
       "0        ANKLESHWAR  18.940120  22.898204   83.868263  187.000000  32.556886   \n",
       "1              Agra   6.461704  19.918637  170.673127  286.509177  32.000000   \n",
       "2         Ahmedabad  14.155741  22.332810   93.763945  206.442273  31.708227   \n",
       "3            Aizawl   3.736762   9.843767   42.540273  148.376894  32.000000   \n",
       "4             Akola   7.992821   9.377436  134.301368  187.000000  32.000000   \n",
       "..              ...        ...        ...         ...         ...        ...   \n",
       "300        Warangal   5.503968  11.754444   53.457143  182.560317  32.000000   \n",
       "301         Wayanad   2.006445   6.012109   36.984375  187.000000  32.000000   \n",
       "302  West Singhbhum  20.947020  30.715232  246.417219  187.000000  32.000000   \n",
       "303    Yamuna Nagar  20.259451  20.204573  125.707317  220.121951  32.000000   \n",
       "304     Yamunanagar  14.192273  29.161818  172.404545  240.768182  32.000000   \n",
       "\n",
       "            AQI  \n",
       "0     52.591617  \n",
       "1     92.604495  \n",
       "2     56.412964  \n",
       "3     24.970619  \n",
       "4     71.562479  \n",
       "..          ...  \n",
       "300   31.355698  \n",
       "301   20.697109  \n",
       "302  136.612583  \n",
       "303   72.966921  \n",
       "304   97.789273  \n",
       "\n",
       "[305 rows x 7 columns]"
      ]
     },
     "execution_count": 47,
     "metadata": {},
     "output_type": "execute_result"
    }
   ],
   "source": [
    "def calculate_aqi(row):\n",
    "    return (row['so2'] * 0.2) + (row['no2'] * 0.3) + (row['rspm'] * 0.5)  # Example formula\n",
    "\n",
    "df_summary['AQI'] = df_summary.apply(calculate_aqi, axis=1)\n",
    "df_summary"
   ]
  },
  {
   "cell_type": "code",
   "execution_count": 50,
   "id": "740b10da-ab20-41de-b891-5ff04a4d8769",
   "metadata": {},
   "outputs": [
    {
     "name": "stdout",
     "output_type": "stream",
     "text": [
      "Index(['location', 'so2', 'no2', 'rspm', 'spm', 'pm2_5', 'AQI'], dtype='object')\n",
      "location     object\n",
      "so2         float64\n",
      "no2         float64\n",
      "rspm        float64\n",
      "spm         float64\n",
      "pm2_5       float64\n",
      "AQI         float64\n",
      "dtype: object\n"
     ]
    }
   ],
   "source": [
    "print(df_summary.columns)\n",
    "print(df_summary.dtypes)"
   ]
  },
  {
   "cell_type": "code",
   "execution_count": 51,
   "id": "02526d36-1857-4609-b757-ffba353566f6",
   "metadata": {},
   "outputs": [],
   "source": [
    "df_summary = df_summary.select_dtypes(include=['number'])\n"
   ]
  },
  {
   "cell_type": "code",
   "execution_count": 55,
   "id": "7a6f815c-8f40-4a01-bc31-557e5badfa81",
   "metadata": {},
   "outputs": [],
   "source": [
    "Q1 = df_summary.quantile(0.25)\n",
    "Q3 = df_summary.quantile(0.75)\n",
    "IQR = Q3 - Q1\n",
    "\n",
    "lower_bound = Q1 - 1.5 * IQR\n",
    "upper_bound = Q3 + 1.5 * IQR\n",
    "\n",
    "outliers = df_summary[(df_summary < lower_bound) | (df_summary > upper_bound)]"
   ]
  },
  {
   "cell_type": "code",
   "execution_count": 53,
   "id": "51366a58-8378-4ad0-9055-40b4b3110f12",
   "metadata": {},
   "outputs": [
    {
     "data": {
      "image/png": "[encoded data removed]",
      "text/plain": [
       "<Figure size 1000x600 with 1 Axes>"
      ]
     },
     "metadata": {},
     "output_type": "display_data"
    }
   ],
   "source": [
    "import matplotlib.pyplot as plt\n",
    "\n",
    "# Plot boxplots for each numerical column\n",
    "df_summary.select_dtypes(include=['number']).boxplot(figsize=(10, 6))\n",
    "plt.title(\"Boxplot for Outlier Detection\")\n",
    "plt.xticks(rotation=45)\n",
    "plt.show()\n"
   ]
  },
  {
   "cell_type": "code",
   "execution_count": 25,
   "id": "4bab031d-f50d-402b-a50e-5b20fe2fbaa6",
   "metadata": {},
   "outputs": [
    {
     "data": {
      "image/png": "[encoded data removed]",
      "text/plain": [
       "<Figure size 1000x500 with 1 Axes>"
      ]
     },
     "metadata": {},
     "output_type": "display_data"
    },
    {
     "data": {
      "image/png": "[encoded data removed]",
      "text/plain": [
       "<Figure size 1000x500 with 1 Axes>"
      ]
     },
     "metadata": {},
     "output_type": "display_data"
    }
   ],
   "source": [
    "import matplotlib.pyplot as plt\n",
    "import seaborn as sns\n",
    "\n",
    "df_sorted = df_summary.sort_values(by='AQI', ascending=False)\n",
    "\n",
    "# Selecting top 10 highest and lowest AQI locations\n",
    "top_10 = df_sorted.head(10)\n",
    "bottom_10 = df_sorted.tail(10)\n",
    "\n",
    "# Plot for highest AQI locations\n",
    "plt.figure(figsize=(10, 5))\n",
    "plt.barh(top_10[\"location\"], top_10[\"AQI\"], color='red')\n",
    "plt.xlabel(\"Air Quality Index (AQI)\")\n",
    "plt.ylabel(\"Location\")\n",
    "plt.title(\"Top 10 Locations with Highest AQI\")\n",
    "plt.gca().invert_yaxis()  # Inverting y-axis to show highest AQI at top\n",
    "plt.show()\n",
    "\n",
    "# Plot for lowest AQI locations\n",
    "plt.figure(figsize=(10, 5))\n",
    "plt.barh(bottom_10[\"location\"], bottom_10[\"AQI\"], color='green')\n",
    "plt.xlabel(\"Air Quality Index (AQI)\")\n",
    "plt.ylabel(\"Location\")\n",
    "plt.title(\"Top 10 Locations with Lowest AQI\")\n",
    "plt.show()\n"
   ]
  },
  {
   "cell_type": "code",
   "execution_count": 26,
   "id": "cce707bf-3063-422e-9fcb-1511f260e891",
   "metadata": {},
   "outputs": [
    {
     "name": "stdout",
     "output_type": "stream",
     "text": [
      "            AQI\n",
      "so2    0.484809\n",
      "no2    0.635992\n",
      "rspm   0.983569\n",
      "spm    0.508845\n",
      "pm2_5  0.189012\n",
      "AQI    1.000000\n"
     ]
    }
   ],
   "source": [
    "numerical_cols.append(\"AQI\") if \"AQI\" not in numerical_cols else None  \n",
    "\n",
    "corr_matrix = df_summary[numerical_cols].corr()\n",
    "aqi_corr = corr_matrix[[\"AQI\"]]\n",
    "print(aqi_corr)"
   ]
  },
  {
   "cell_type": "code",
   "execution_count": 27,
   "id": "90a03038-c78e-4913-9ed2-9437c878315f",
   "metadata": {},
   "outputs": [
    {
     "data": {
      "image/png": "[encoded data removed]",
      "text/plain": [
       "<Figure size 800x500 with 2 Axes>"
      ]
     },
     "metadata": {},
     "output_type": "display_data"
    }
   ],
   "source": [
    "plt.figure(figsize=(8, 5))\n",
    "\n",
    "sns.heatmap(aqi_corr, annot=True, cmap=\"coolwarm\", linewidths=0.5)\n",
    "plt.title(\"Correlation of AQI with Pollutants\")\n",
    "plt.show()\n"
   ]
  },
  {
   "cell_type": "code",
   "execution_count": 28,
   "id": "2e93b1cd-d712-4bf5-b256-164b42547bd9",
   "metadata": {},
   "outputs": [],
   "source": [
    "# AQI categories\n",
    "def categorize_aqi(aqi):\n",
    "    if aqi <= 50:\n",
    "        return \"Good\"\n",
    "    elif aqi <= 100:\n",
    "        return \"Moderate\"\n",
    "    elif aqi <= 150:\n",
    "        return \"Unhealthy for Sensitive Groups\"\n",
    "    elif aqi <= 200:\n",
    "        return \"Unhealthy\"\n",
    "    elif aqi <= 300:\n",
    "        return \"Very Unhealthy\"\n",
    "    else:\n",
    "        return \"Hazardous\"\n",
    "\n",
    "df_summary[\"AQI_Category\"] = df_summary[\"AQI\"].apply(categorize_aqi)\n"
   ]
  },
  {
   "cell_type": "code",
   "execution_count": 29,
   "id": "1f8a7521-d271-402d-9b68-7e7fc265d7b4",
   "metadata": {},
   "outputs": [
    {
     "name": "stdout",
     "output_type": "stream",
     "text": [
      "Accuracy: 0.9836065573770492\n"
     ]
    }
   ],
   "source": [
    "from sklearn.ensemble import RandomForestClassifier\n",
    "from sklearn.metrics import accuracy_score\n",
    "from sklearn.model_selection import train_test_split\n",
    "\n",
    "X = df_summary[[\"so2\", \"no2\", \"rspm\", \"spm\", \"pm2_5\"]]\n",
    "y = df_summary[\"AQI_Category\"]\n",
    "\n",
    "from sklearn.preprocessing import LabelEncoder\n",
    "le = LabelEncoder()\n",
    "y = le.fit_transform(y)\n",
    "\n",
    "# Train-test split\n",
    "X_train, X_test, y_train, y_test = train_test_split(X, y, test_size=0.2, random_state=42)\n",
    "\n",
    "# model Training\n",
    "clf = RandomForestClassifier(n_estimators=100, random_state=42)\n",
    "clf.fit(X_train, y_train)\n",
    "\n",
    "# Result\n",
    "y_pred = clf.predict(X_test)\n",
    "print(\"Accuracy:\", accuracy_score(y_test, y_pred))\n"
   ]
  },
  {
   "cell_type": "code",
   "execution_count": null,
   "id": "8c124f76-eda7-4056-9f77-b173ceae4c1f",
   "metadata": {},
   "outputs": [],
   "source": []
  }
 ],
 "metadata": {
  "kernelspec": {
   "display_name": "Python 3 (ipykernel)",
   "language": "python",
   "name": "python3"
  },
  "language_info": {
   "codemirror_mode": {
    "name": "ipython",
    "version": 3
   },
   "file_extension": ".py",
   "mimetype": "text/x-python",
   "name": "python",
   "nbconvert_exporter": "python",
   "pygments_lexer": "ipython3",
   "version": "3.12.2"
  }
 },
 "nbformat": 4,
 "nbformat_minor": 5
}
